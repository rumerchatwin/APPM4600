{
 "cells": [
  {
   "cell_type": "code",
   "execution_count": 4,
   "metadata": {},
   "outputs": [
    {
     "name": "stdout",
     "output_type": "stream",
     "text": [
      "the dot product is :  212660.24304678725\n"
     ]
    }
   ],
   "source": [
    "import numpy as np\n",
    "import numpy.linalg as la\n",
    "import math\n",
    "def driver():\n",
    "    n = 100\n",
    "    x = np.linspace(0,np.pi,n)\n",
    "    # this is a function handle. You can use it to define\n",
    "    # functions instead of using a subroutine like you\n",
    "    # have to in a true low level language.\n",
    "    f = lambda x: x**2 + 4*x + 2*np.exp(x)\n",
    "    g = lambda x: 6*x**3 + 2*np.sin(x)\n",
    "    y = f(x)\n",
    "    w = g(x)\n",
    "    # evaluate the dot product of y and w\n",
    "    dp = dotProduct(y,w,n)\n",
    "    # print the output\n",
    "    print('the dot product is : ', dp)\n",
    "    return\n",
    "def dotProduct(x,y,n):\n",
    "    # Computes the dot product of the n x 1 vectors x and y\n",
    "    dp = 0.\n",
    "    for j in range(n):\n",
    "        dp = dp + x[j]*y[j]\n",
    "    return dp\n",
    "driver()\n"
   ]
  },
  {
   "cell_type": "code",
   "execution_count": 9,
   "metadata": {},
   "outputs": [
    {
     "name": "stdout",
     "output_type": "stream",
     "text": [
      "Matrix multiplication is [[0, 1], [0, 1]]\n"
     ]
    }
   ],
   "source": [
    "import numpy as np\n",
    "import numpy.linalg as la\n",
    "import math\n",
    "def driver():\n",
    "    \n",
    "    x = [[column for column in range(2)] for row in range(2)]\n",
    "    y = [[column for column in range(2)] for row in range(2)]\n",
    "    \n",
    "    dp = matrixMultiplication(x,y)\n",
    "    print('Matrix multiplication is', dp)\n",
    "    return\n",
    "def matrixMultiplication(x,y):\n",
    "    dp = [[0, 0],[0, 0]]\n",
    "    for i in range(len(x)):   \n",
    "        for j in range(len(y[0])):\n",
    "            for k in range(len(y)):\n",
    "                dp[i][j] = x[i][k] * y[k][j]\n",
    "    return dp;\n",
    "\n",
    "        \n",
    "    return dp\n",
    "driver()\n"
   ]
  },
  {
   "cell_type": "code",
   "execution_count": null,
   "metadata": {},
   "outputs": [],
   "source": []
  },
  {
   "cell_type": "code",
   "execution_count": null,
   "metadata": {},
   "outputs": [],
   "source": []
  }
 ],
 "metadata": {
  "kernelspec": {
   "display_name": "Python 3",
   "language": "python",
   "name": "python3"
  },
  "language_info": {
   "codemirror_mode": {
    "name": "ipython",
    "version": 3
   },
   "file_extension": ".py",
   "mimetype": "text/x-python",
   "name": "python",
   "nbconvert_exporter": "python",
   "pygments_lexer": "ipython3",
   "version": "3.8.5"
  }
 },
 "nbformat": 4,
 "nbformat_minor": 4
}
